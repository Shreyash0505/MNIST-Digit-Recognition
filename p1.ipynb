{
 "cells": [
  {
   "cell_type": "code",
   "execution_count": 24,
   "id": "505b58d8",
   "metadata": {},
   "outputs": [],
   "source": [
    "import keras\n",
    "import tensorflow as tf\n",
    "import matplotlib.pyplot as plt\n",
    "import numpy as np"
   ]
  },
  {
   "cell_type": "code",
   "execution_count": 25,
   "id": "9a179c52",
   "metadata": {},
   "outputs": [],
   "source": [
    "(x_train, y_train), (x_test, y_test) =  tf.keras.datasets.mnist.load_data(path=\"mnist.npz\")\n",
    "assert x_train.shape == (60000, 28, 28)\n",
    "assert x_test.shape == (10000, 28, 28)\n",
    "assert y_train.shape == (60000,)\n",
    "assert y_test.shape == (10000,)\n",
    "x_train = x_train/255\n",
    "x_test = x_test/255\n",
    "x_train = x_train.reshape(x_train.shape[0], 28, 28, 1)\n",
    "x_test = x_test.reshape(x_test.shape[0], 28, 28, 1)"
   ]
  },
  {
   "cell_type": "code",
   "execution_count": 28,
   "id": "4b4801ce",
   "metadata": {},
   "outputs": [],
   "source": [
    "model = keras.models.Sequential([\n",
    "                                 keras.layers.Conv2D(28,kernel_size=(3,3),input_shape=(28,28,1)),\n",
    "                                 keras.layers.MaxPooling2D(),\n",
    "                                 keras.layers.Flatten(),\n",
    "                                 keras.layers.Dense(128,activation='relu'),\n",
    "                                 keras.layers.Dense(10,activation = 'softmax')\n",
    "])"
   ]
  },
  {
   "cell_type": "code",
   "execution_count": 29,
   "id": "5cc9e379",
   "metadata": {},
   "outputs": [
    {
     "name": "stdout",
     "output_type": "stream",
     "text": [
      "Epoch 1/10\n",
      "1875/1875 [==============================] - 24s 12ms/step - loss: 0.1705 - accuracy: 0.9501\n",
      "Epoch 2/10\n",
      "1875/1875 [==============================] - 23s 12ms/step - loss: 0.0609 - accuracy: 0.9811\n",
      "Epoch 3/10\n",
      "1875/1875 [==============================] - 22s 12ms/step - loss: 0.0390 - accuracy: 0.9879\n",
      "Epoch 4/10\n",
      "1875/1875 [==============================] - 23s 12ms/step - loss: 0.0247 - accuracy: 0.9923\n",
      "Epoch 5/10\n",
      "1875/1875 [==============================] - 24s 13ms/step - loss: 0.0181 - accuracy: 0.9941\n",
      "Epoch 6/10\n",
      "1875/1875 [==============================] - 24s 13ms/step - loss: 0.0145 - accuracy: 0.9951\n",
      "Epoch 7/10\n",
      "1875/1875 [==============================] - 24s 13ms/step - loss: 0.0099 - accuracy: 0.9966\n",
      "Epoch 8/10\n",
      "1875/1875 [==============================] - 24s 13ms/step - loss: 0.0097 - accuracy: 0.9966\n",
      "Epoch 9/10\n",
      "1875/1875 [==============================] - 25s 13ms/step - loss: 0.0084 - accuracy: 0.9971\n",
      "Epoch 10/10\n",
      "1875/1875 [==============================] - 23s 13ms/step - loss: 0.0083 - accuracy: 0.9973\n"
     ]
    }
   ],
   "source": [
    "model.compile(optimizer='adam',loss = 'sparse_categorical_crossentropy',metrics = ['accuracy'])\n",
    "history=model.fit(x_train,y_train,epochs=10)"
   ]
  },
  {
   "cell_type": "code",
   "execution_count": 31,
   "id": "10e75fac",
   "metadata": {},
   "outputs": [],
   "source": [
    "model.save('cnn5.h5')"
   ]
  },
  {
   "cell_type": "code",
   "execution_count": null,
   "id": "a85757cf",
   "metadata": {},
   "outputs": [],
   "source": []
  }
 ],
 "metadata": {
  "kernelspec": {
   "display_name": "Python 3 (ipykernel)",
   "language": "python",
   "name": "python3"
  },
  "language_info": {
   "codemirror_mode": {
    "name": "ipython",
    "version": 3
   },
   "file_extension": ".py",
   "mimetype": "text/x-python",
   "name": "python",
   "nbconvert_exporter": "python",
   "pygments_lexer": "ipython3",
   "version": "3.9.12"
  }
 },
 "nbformat": 4,
 "nbformat_minor": 5
}
