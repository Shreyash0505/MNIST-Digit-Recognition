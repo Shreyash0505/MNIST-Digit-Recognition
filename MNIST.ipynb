{
 "cells": [
  {
   "cell_type": "markdown",
   "id": "94ae4d9b",
   "metadata": {},
   "source": [
    "\n",
    "# IMPORTING LIBRARIES"
   ]
  },
  {
   "cell_type": "code",
   "execution_count": 2,
   "id": "684ab621",
   "metadata": {},
   "outputs": [],
   "source": [
    "import tensorflow as tf\n",
    "import keras\n",
    "from keras.models import Sequential\n",
    "from keras.layers import Dense\n",
    "from keras.layers import Dropout\n",
    "from keras.layers import Flatten\n",
    "from keras.layers.convolutional import Conv2D\n",
    "from keras.layers.convolutional import MaxPooling2D\n",
    "from keras.layers import BatchNormalization\n",
    "\n",
    "import numpy as np\n",
    "import pandas as pd\n",
    "import matplotlib.pyplot as plt"
   ]
  },
  {
   "cell_type": "markdown",
   "id": "d6666b2f",
   "metadata": {},
   "source": [
    "## LOADING DATASET"
   ]
  },
  {
   "cell_type": "code",
   "execution_count": 8,
   "id": "e89df548",
   "metadata": {},
   "outputs": [],
   "source": [
    "(X_train, y_train), (X_test, y_test) =  tf.keras.datasets.mnist.load_data(path=\"mnist_train.csv\")"
   ]
  },
  {
   "cell_type": "markdown",
   "id": "ceefc0ab",
   "metadata": {},
   "source": [
    "#### Checking Size:-"
   ]
  },
  {
   "cell_type": "code",
   "execution_count": 9,
   "id": "0ea7a377",
   "metadata": {},
   "outputs": [
    {
     "name": "stdout",
     "output_type": "stream",
     "text": [
      "X_train_shape : (60000, 28, 28) \n",
      "y_train.shape (60000,)\n"
     ]
    }
   ],
   "source": [
    "print(f\"X_train_shape : {X_train.shape} \\ny_train.shape {y_train.shape}\")"
   ]
  },
  {
   "cell_type": "markdown",
   "id": "e3b708cf",
   "metadata": {},
   "source": [
    "### Plotting image from Data set"
   ]
  },
  {
   "cell_type": "code",
   "execution_count": 10,
   "id": "8a6cf863",
   "metadata": {
    "scrolled": true
   },
   "outputs": [
    {
     "name": "stdout",
     "output_type": "stream",
     "text": [
      "label for oth item is  4\n"
     ]
    },
    {
     "data": {
      "image/png": "[encoded data removed]",
      "text/plain": [
       "<Figure size 432x288 with 1 Axes>"
      ]
     },
     "metadata": {
      "needs_background": "light"
     },
     "output_type": "display_data"
    }
   ],
   "source": [
    "plt.imshow(X_train[2])\n",
    "print(\"label for oth item is \",y_train[2])"
   ]
  },
  {
   "cell_type": "code",
   "execution_count": 11,
   "id": "5b99a0a0",
   "metadata": {
    "scrolled": true
   },
   "outputs": [
    {
     "name": "stdout",
     "output_type": "stream",
     "text": [
      "label for item is  1\n"
     ]
    },
    {
     "data": {
      "image/png": "[encoded data removed]",
      "text/plain": [
       "<Figure size 432x288 with 1 Axes>"
      ]
     },
     "metadata": {
      "needs_background": "light"
     },
     "output_type": "display_data"
    }
   ],
   "source": [
    "plt.imshow(X_train[200])\n",
    "print(\"label for item is \",y_train[200])\n"
   ]
  },
  {
   "cell_type": "code",
   "execution_count": 12,
   "id": "ef5b079d",
   "metadata": {},
   "outputs": [
    {
     "name": "stdout",
     "output_type": "stream",
     "text": [
      "label for item is  2\n"
     ]
    },
    {
     "data": {
      "image/png": "[encoded data removed]",
      "text/plain": [
       "<Figure size 432x288 with 1 Axes>"
      ]
     },
     "metadata": {
      "needs_background": "light"
     },
     "output_type": "display_data"
    }
   ],
   "source": [
    "plt.imshow(X_train[19891])\n",
    "print(\"label for item is \",y_train[19891])"
   ]
  },
  {
   "cell_type": "markdown",
   "id": "4716d31c",
   "metadata": {},
   "source": [
    "# Preprocessing the data for CNN model :"
   ]
  },
  {
   "cell_type": "code",
   "execution_count": 12,
   "id": "6d8253d8",
   "metadata": {},
   "outputs": [
    {
     "name": "stdout",
     "output_type": "stream",
     "text": [
      "train-shape = (60000, 28, 28, 1)\n",
      "test-shape = (10000, 28, 28, 1)\n"
     ]
    }
   ],
   "source": [
    "X_train = X_train.reshape(X_train.shape[0], 28, 28, 1)\n",
    "X_test = X_test.reshape(X_test.shape[0], 28, 28, 1)\n",
    "print(f\"train-shape = {X_train.shape}\\ntest-shape = {X_test.shape}\")"
   ]
  },
  {
   "cell_type": "code",
   "execution_count": 14,
   "id": "ea0a6b8c",
   "metadata": {},
   "outputs": [],
   "source": [
    "# convert int to float32\n",
    "X_train = X_train.astype('float32')\n",
    "X_test = X_test.astype('float32')\n",
    "\n",
    "# normalize the input to 0-1 \n",
    "X_train = X_train/255.0\n",
    "X_test = X_test/255.0"
   ]
  },
  {
   "cell_type": "code",
   "execution_count": 15,
   "id": "8cf31812",
   "metadata": {},
   "outputs": [
    {
     "data": {
      "text/plain": [
       "(60000, 10)"
      ]
     },
     "execution_count": 15,
     "metadata": {},
     "output_type": "execute_result"
    }
   ],
   "source": [
    "y_train = tf.keras.utils.to_categorical(y_train)\n",
    "y_test = tf.keras.utils.to_categorical(y_test)\n",
    "y_train.shape"
   ]
  },
  {
   "cell_type": "markdown",
   "id": "726addd7",
   "metadata": {},
   "source": [
    "# Create a CNN model architecture : (using grid search)"
   ]
  },
  {
   "cell_type": "markdown",
   "id": "c6bc5068",
   "metadata": {},
   "source": [
    "### Creating Sequential CNN Model"
   ]
  },
  {
   "cell_type": "code",
   "execution_count": 14,
   "id": "1eea82ae",
   "metadata": {},
   "outputs": [],
   "source": [
    "model = Sequential([\n",
    "    Conv2D(32, (5,5), input_shape=(28,28,1), padding = 'same', activation = 'relu'),\n",
    "    MaxPooling2D(pool_size=(2,2),padding=\"SAME\"),\n",
    "    Dropout(0.2),\n",
    "    Flatten(),\n",
    "    Dense(128,activation='relu'),\n",
    "    (BatchNormalization()),\n",
    "    Dense(10,activation='softmax')\n",
    "])"
   ]
  },
  {
   "cell_type": "markdown",
   "id": "e3e00bcc",
   "metadata": {},
   "source": [
    "### Compile and fit the data to the model :"
   ]
  },
  {
   "cell_type": "code",
   "execution_count": 15,
   "id": "95ec0ac6",
   "metadata": {},
   "outputs": [
    {
     "name": "stdout",
     "output_type": "stream",
     "text": [
      "Model: \"sequential\"\n",
      "_________________________________________________________________\n",
      " Layer (type)                Output Shape              Param #   \n",
      "=================================================================\n",
      " conv2d (Conv2D)             (None, 28, 28, 32)        832       \n",
      "                                                                 \n",
      " max_pooling2d (MaxPooling2D  (None, 14, 14, 32)       0         \n",
      " )                                                               \n",
      "                                                                 \n",
      " dropout (Dropout)           (None, 14, 14, 32)        0         \n",
      "                                                                 \n",
      " flatten (Flatten)           (None, 6272)              0         \n",
      "                                                                 \n",
      " dense (Dense)               (None, 128)               802944    \n",
      "                                                                 \n",
      " batch_normalization (BatchN  (None, 128)              512       \n",
      " ormalization)                                                   \n",
      "                                                                 \n",
      " dense_1 (Dense)             (None, 10)                1290      \n",
      "                                                                 \n",
      "=================================================================\n",
      "Total params: 805,578\n",
      "Trainable params: 805,322\n",
      "Non-trainable params: 256\n",
      "_________________________________________________________________\n",
      "None\n"
     ]
    }
   ],
   "source": [
    "model.compile(loss = 'categorical_crossentropy', optimizer = 'adam', metrics=['accuracy'])\n",
    "print(model.summary())"
   ]
  },
  {
   "cell_type": "markdown",
   "id": "be8cdee8",
   "metadata": {},
   "source": [
    "### Fit the data after compiling."
   ]
  },
  {
   "cell_type": "code",
   "execution_count": 18,
   "id": "c15ad7f5",
   "metadata": {},
   "outputs": [
    {
     "name": "stdout",
     "output_type": "stream",
     "text": [
      "Epoch 1/10\n",
      "300/300 [==============================] - 28s 86ms/step - loss: 0.1359 - accuracy: 0.9596 - val_loss: 0.1790 - val_accuracy: 0.9852\n",
      "Epoch 2/10\n",
      "300/300 [==============================] - 28s 92ms/step - loss: 0.0439 - accuracy: 0.9869 - val_loss: 0.0403 - val_accuracy: 0.9881\n",
      "Epoch 3/10\n",
      "300/300 [==============================] - 27s 90ms/step - loss: 0.0281 - accuracy: 0.9918 - val_loss: 0.0355 - val_accuracy: 0.9880\n",
      "Epoch 4/10\n",
      "300/300 [==============================] - 27s 88ms/step - loss: 0.0192 - accuracy: 0.9943 - val_loss: 0.0375 - val_accuracy: 0.9880\n",
      "Epoch 5/10\n",
      "300/300 [==============================] - 27s 90ms/step - loss: 0.0143 - accuracy: 0.9958 - val_loss: 0.0353 - val_accuracy: 0.9893\n",
      "Epoch 6/10\n",
      "300/300 [==============================] - 27s 90ms/step - loss: 0.0119 - accuracy: 0.9965 - val_loss: 0.0420 - val_accuracy: 0.9860\n",
      "Epoch 7/10\n",
      "300/300 [==============================] - 26s 86ms/step - loss: 0.0100 - accuracy: 0.9968 - val_loss: 0.0348 - val_accuracy: 0.9892\n",
      "Epoch 8/10\n",
      "300/300 [==============================] - 27s 90ms/step - loss: 0.0079 - accuracy: 0.9976 - val_loss: 0.0326 - val_accuracy: 0.9900\n",
      "Epoch 9/10\n",
      "300/300 [==============================] - 27s 90ms/step - loss: 0.0065 - accuracy: 0.9982 - val_loss: 0.0369 - val_accuracy: 0.9891\n",
      "Epoch 10/10\n",
      "300/300 [==============================] - 27s 90ms/step - loss: 0.0067 - accuracy: 0.9979 - val_loss: 0.0372 - val_accuracy: 0.9889\n"
     ]
    }
   ],
   "source": [
    "history = model.fit(X_train, y_train, epochs=10, batch_size=200,validation_data=(X_test, y_test)).history"
   ]
  },
  {
   "cell_type": "markdown",
   "id": "fdbb2197",
   "metadata": {},
   "source": [
    "### Evaluation:-"
   ]
  },
  {
   "cell_type": "code",
   "execution_count": 19,
   "id": "d2d8a260",
   "metadata": {},
   "outputs": [
    {
     "data": {
      "text/plain": [
       "<matplotlib.legend.Legend at 0x19a93670d30>"
      ]
     },
     "execution_count": 19,
     "metadata": {},
     "output_type": "execute_result"
    },
    {
     "data": {
      "image/png": "[encoded data removed]",
      "text/plain": [
       "<Figure size 432x288 with 1 Axes>"
      ]
     },
     "metadata": {
      "needs_background": "light"
     },
     "output_type": "display_data"
    }
   ],
   "source": [
    "plt.plot(history['accuracy'])\n",
    "plt.plot(history['val_accuracy'])\n",
    "plt.title('model accuracy')\n",
    "plt.ylabel('accuracy')\n",
    "plt.xlabel('epoch')\n",
    "plt.legend(['train', 'test'], loc='upper left')"
   ]
  },
  {
   "cell_type": "code",
   "execution_count": 16,
   "id": "2a6cef2c",
   "metadata": {},
   "outputs": [],
   "source": [
    "model.save('bestmodel.h5')s"
   ]
  },
  {
   "cell_type": "code",
   "execution_count": 37,
   "id": "d5d91270",
   "metadata": {
    "scrolled": true
   },
   "outputs": [
    {
     "name": "stdout",
     "output_type": "stream",
     "text": [
      "1/1 [==============================] - 0s 22ms/step\n"
     ]
    },
    {
     "data": {
      "text/plain": [
       "5"
      ]
     },
     "execution_count": 37,
     "metadata": {},
     "output_type": "execute_result"
    }
   ],
   "source": [
    "img = X_train[4899]\n",
    "img = img.reshape(1,28,28,1)\n",
    "\n",
    "predict_value = model.predict(img)\n",
    "np.argmax(predict_value)"
   ]
  },
  {
   "cell_type": "markdown",
   "id": "713ca1a4",
   "metadata": {},
   "source": [
    "## So as our model accuracy is pretty good we can move forward and save this model and use it for our app."
   ]
  },
  {
   "cell_type": "code",
   "execution_count": 4,
   "id": "6eccd8b0",
   "metadata": {},
   "outputs": [
    {
     "ename": "NameError",
     "evalue": "name 'keras' is not defined",
     "output_type": "error",
     "traceback": [
      "\u001b[1;31m---------------------------------------------------------------------------\u001b[0m",
      "\u001b[1;31mNameError\u001b[0m                                 Traceback (most recent call last)",
      "Input \u001b[1;32mIn [4]\u001b[0m, in \u001b[0;36m<cell line: 1>\u001b[1;34m()\u001b[0m\n\u001b[1;32m----> 1\u001b[0m model_s \u001b[38;5;241m=\u001b[39m \u001b[43mkeras\u001b[49m\u001b[38;5;241m.\u001b[39mmodels\u001b[38;5;241m.\u001b[39mload_model(\u001b[38;5;124m'\u001b[39m\u001b[38;5;124mbestmodel.h5\u001b[39m\u001b[38;5;124m'\u001b[39m)\n\u001b[0;32m      2\u001b[0m score \u001b[38;5;241m=\u001b[39m model_s\u001b[38;5;241m.\u001b[39mevaluate(X_test, y_test)\n\u001b[0;32m      3\u001b[0m \u001b[38;5;28mprint\u001b[39m(\u001b[38;5;124mf\u001b[39m\u001b[38;5;124m\"\u001b[39m\u001b[38;5;124mThe model accuracy is \u001b[39m\u001b[38;5;132;01m{\u001b[39;00mscore[\u001b[38;5;241m1\u001b[39m]\u001b[38;5;132;01m}\u001b[39;00m\u001b[38;5;124m\"\u001b[39m)\n",
      "\u001b[1;31mNameError\u001b[0m: name 'keras' is not defined"
     ]
    }
   ],
   "source": [
    "model_s = keras.models.load_model('bestmodel.h5')\n",
    "score = model_s.evaluate(X_test, y_test)\n",
    "print(f\"The model accuracy is {score[1]}\")\n"
   ]
  },
  {
   "cell_type": "code",
   "execution_count": null,
   "id": "19c5ecb7",
   "metadata": {},
   "outputs": [],
   "source": []
  }
 ],
 "metadata": {
  "kernelspec": {
   "display_name": "Python 3 (ipykernel)",
   "language": "python",
   "name": "python3"
  },
  "language_info": {
   "codemirror_mode": {
    "name": "ipython",
    "version": 3
   },
   "file_extension": ".py",
   "mimetype": "text/x-python",
   "name": "python",
   "nbconvert_exporter": "python",
   "pygments_lexer": "ipython3",
   "version": "3.9.12"
  }
 },
 "nbformat": 4,
 "nbformat_minor": 5
}
